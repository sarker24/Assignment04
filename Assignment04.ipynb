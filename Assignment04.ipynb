{
 "cells": [
  {
   "cell_type": "markdown",
   "metadata": {},
   "source": [
    "# Excercise 1 - user privileges"
   ]
  },
  {
   "cell_type": "code",
   "execution_count": 1,
   "metadata": {},
   "outputs": [],
   "source": [
    "import sys\n",
    "import mysql.connector\n",
    "\n",
    "def myconnect(user, pw):\n",
    "        conn = mysql.connector.connect( host='localhost', database='classicmodels',user=user, password=pw)\n",
    "        conn.autocommit = True\n",
    "        return conn   \n",
    "\n",
    "rootconn = myconnect('root','00020297') # use root password\n",
    "\n",
    "\n",
    "def sqlQuery(sqlString, conn=rootconn):\n",
    "    try:\n",
    "        cursor = conn.cursor()\n",
    "        cursor.execute(sqlString)\n",
    "        res = cursor.fetchall()\n",
    "        return res\n",
    "    except Exception as ex:\n",
    "        print(str(ex), file=sys.stderr)\n",
    "    finally:    \n",
    "        cursor.close()\n",
    "\n",
    "def sqlDo(sqlString, conn=rootconn):\n",
    "    try:\n",
    "        cursor = conn.cursor()\n",
    "        cursor.execute(sqlString)\n",
    "        #res = cursor.fetchwarnings()\n",
    "        #return res\n",
    "    except Exception as ex:\n",
    "        print(str(ex), file=sys.stderr)\n",
    "    finally:    \n",
    "        cursor.close()\n"
   ]
  },
  {
   "cell_type": "markdown",
   "metadata": {},
   "source": [
    "# Inventory - which is used to maintain the two tables products and productlines`."
   ]
  },
  {
   "cell_type": "code",
   "execution_count": 2,
   "metadata": {},
   "outputs": [
    {
     "data": {
      "text/plain": [
       "[('GRANT USAGE ON *.* TO `Inventory`@`%`',)]"
      ]
     },
     "execution_count": 2,
     "metadata": {},
     "output_type": "execute_result"
    }
   ],
   "source": [
    "sqlDo(\"DROP USER IF EXISTS Inventory\") # if user exists then drop\n",
    "sqlDo(\"CREATE USER 'Inventory' IDENTIFIED BY '123'\") # cerate new user name inventory\n",
    "sqlQuery(\"select User, Host from mysql.user\") # show all user\n",
    "sqlQuery(\"SHOW GRANTS FOR Inventory\") # show privilege of user inventory\n",
    "#secretconn = myconnect('Inventory','123')"
   ]
  },
  {
   "cell_type": "code",
   "execution_count": 3,
   "metadata": {},
   "outputs": [],
   "source": [
    "#sqlDo(\"GRANT UPDATE, INSERT, DELETE, SELECT  ON classicmodels.products TO Inventory\")\n",
    "sqlDo(\"GRANT ALL  ON classicmodels.products  TO Inventory\")\n",
    "sqlDo(\"FLUSH Privileges\")\n"
   ]
  },
  {
   "cell_type": "code",
   "execution_count": 4,
   "metadata": {},
   "outputs": [],
   "source": [
    "productsconn = myconnect('Inventory','123')"
   ]
  },
  {
   "cell_type": "code",
   "execution_count": 5,
   "metadata": {},
   "outputs": [
    {
     "data": {
      "text/plain": [
       "[('S10_1678',\n",
       "  '1969 Harley Davidson Ultimate Chopper',\n",
       "  'Motorcycles',\n",
       "  '1:10',\n",
       "  'Min Lin Diecast',\n",
       "  'This replica features working kickstand, front suspension, gear-shift lever, footbrake lever, drive chain, wheels and steering. All parts are particularly delicate due to their precise scale and require special care and attention.',\n",
       "  7933,\n",
       "  Decimal('48.81'),\n",
       "  Decimal('95.70'))]"
      ]
     },
     "execution_count": 5,
     "metadata": {},
     "output_type": "execute_result"
    }
   ],
   "source": [
    "sqlQuery(\"Select * from  classicmodels.products limit 1 \", productsconn)"
   ]
  },
  {
   "cell_type": "code",
   "execution_count": 6,
   "metadata": {},
   "outputs": [],
   "source": [
    "sqlDo(\"GRANT ALL  ON classicmodels.productlines  TO Inventory\")"
   ]
  },
  {
   "cell_type": "code",
   "execution_count": 7,
   "metadata": {},
   "outputs": [],
   "source": [
    "sqlDo(\"FLUSH Privileges\")"
   ]
  },
  {
   "cell_type": "code",
   "execution_count": 8,
   "metadata": {},
   "outputs": [
    {
     "data": {
      "text/plain": [
       "[('Classic Cars',\n",
       "  'Attention car enthusiasts: Make your wildest car ownership dreams come true. Whether you are looking for classic muscle cars, dream sports cars or movie-inspired miniatures, you will find great choices in this category. These replicas feature superb attention to detail and craftsmanship and offer features such as working steering system, opening forward compartment, opening rear trunk with removable spare wheel, 4-wheel independent spring suspension, and so on. The models range in size from 1:10 to 1:24 scale and include numerous limited edition and several out-of-production vehicles. All models include a certificate of authenticity from their manufacturers and come fully assembled and ready for display in the home or office.',\n",
       "  None,\n",
       "  None)]"
      ]
     },
     "execution_count": 8,
     "metadata": {},
     "output_type": "execute_result"
    }
   ],
   "source": [
    "sqlQuery(\"Select * from  classicmodels.productlines limit 1 \", productsconn)"
   ]
  },
  {
   "cell_type": "markdown",
   "metadata": {},
   "source": [
    "# Bookkeeping which make sure that all orders are payed."
   ]
  },
  {
   "cell_type": "code",
   "execution_count": 9,
   "metadata": {},
   "outputs": [
    {
     "data": {
      "text/plain": [
       "[('GRANT USAGE ON *.* TO `bookkeeping`@`%`',)]"
      ]
     },
     "execution_count": 9,
     "metadata": {},
     "output_type": "execute_result"
    }
   ],
   "source": [
    "sqlDo(\"DROP USER IF EXISTS bookkeeping\") # if user exists then drop\n",
    "sqlDo(\"CREATE USER 'bookkeeping' IDENTIFIED BY '1234'\") # cerate new user name bookeeping\n",
    "sqlQuery(\"select User, Host from mysql.user\") # show all user\n",
    "sqlQuery(\"SHOW GRANTS FOR bookkeeping\") # show privilege of user bookkeeping"
   ]
  },
  {
   "cell_type": "code",
   "execution_count": 10,
   "metadata": {},
   "outputs": [],
   "source": [
    "sqlDo(\"GRANT SELECT  ON classicmodels.orders  TO Inventory\")\n",
    "sqlDo(\"FLUSH Privileges\")"
   ]
  },
  {
   "cell_type": "code",
   "execution_count": 11,
   "metadata": {},
   "outputs": [],
   "source": [
    "bookkeepingconn = myconnect('Inventory','123')"
   ]
  },
  {
   "cell_type": "code",
   "execution_count": 12,
   "metadata": {},
   "outputs": [
    {
     "data": {
      "text/plain": [
       "[(10100,\n",
       "  datetime.date(2003, 1, 6),\n",
       "  datetime.date(2003, 1, 13),\n",
       "  datetime.date(2003, 1, 10),\n",
       "  'Shipped',\n",
       "  None,\n",
       "  363)]"
      ]
     },
     "execution_count": 12,
     "metadata": {},
     "output_type": "execute_result"
    }
   ],
   "source": [
    "sqlQuery(\"Select * from  classicmodels.orders limit 1 \", bookkeepingconn)"
   ]
  },
  {
   "cell_type": "markdown",
   "metadata": {},
   "source": [
    "## Human resources which takes care of employees and their offices"
   ]
  },
  {
   "cell_type": "code",
   "execution_count": 13,
   "metadata": {},
   "outputs": [
    {
     "data": {
      "text/plain": [
       "[('GRANT USAGE ON *.* TO `HRM`@`%`',)]"
      ]
     },
     "execution_count": 13,
     "metadata": {},
     "output_type": "execute_result"
    }
   ],
   "source": [
    "sqlDo(\"DROP USER IF EXISTS HRM\") # if user exists then drop\n",
    "sqlDo(\"CREATE USER 'HRM' IDENTIFIED BY '12345'\") # cerate new user name bookeeping\n",
    "sqlQuery(\"select User, Host from mysql.user\") # show all user\n",
    "sqlQuery(\"SHOW GRANTS FOR HRM\") # show privilege of user bookkeeping"
   ]
  },
  {
   "cell_type": "code",
   "execution_count": 14,
   "metadata": {},
   "outputs": [],
   "source": [
    "sqlDo(\"GRANT UPDATE, INSERT, DELETE, SELECT  ON classicmodels.employees TO HRM\")\n",
    "sqlDo(\"FLUSH Privileges\")"
   ]
  },
  {
   "cell_type": "code",
   "execution_count": 15,
   "metadata": {},
   "outputs": [],
   "source": [
    "hrmconn = myconnect('HRM','12345')"
   ]
  },
  {
   "cell_type": "code",
   "execution_count": 16,
   "metadata": {},
   "outputs": [
    {
     "name": "stderr",
     "output_type": "stream",
     "text": [
      "Use multi=True when executing multiple statements\n"
     ]
    }
   ],
   "source": [
    "sqlQuery(\"SET FOREIGN_KEY_CHECKS=0; Delete from classicmodels.employees where employees.employeeNumber ='1076'\", hrmconn)"
   ]
  },
  {
   "cell_type": "markdown",
   "metadata": {},
   "source": [
    "## Exercise 2 - logging"
   ]
  },
  {
   "cell_type": "code",
   "execution_count": 34,
   "metadata": {},
   "outputs": [],
   "source": [
    "sqlDo(\"SET global general_log = 1; SET global log_output = 'table'\") # create log file"
   ]
  },
  {
   "cell_type": "code",
   "execution_count": 35,
   "metadata": {},
   "outputs": [
    {
     "name": "stderr",
     "output_type": "stream",
     "text": [
      "No result set to fetch from.\n"
     ]
    }
   ],
   "source": [
    "\n",
    "sqlQuery(\"Explain mysql.general_log\")"
   ]
  },
  {
   "cell_type": "code",
   "execution_count": null,
   "metadata": {},
   "outputs": [],
   "source": [
    "### insert some data to see the recors of lof file"
   ]
  },
  {
   "cell_type": "code",
   "execution_count": null,
   "metadata": {},
   "outputs": [],
   "source": [
    "sqlQuery(\"\"\"\n",
    "SELECT DATE_FORMAT(event_time,'%H:%i:%s')as time, user_host, command_type, argument \n",
    "FROM mysql.general_log\n",
    "ORDER BY time DESC\n",
    "LIMIT 10\n",
    "\"\"\")\n",
    "# investigate record of log file"
   ]
  },
  {
   "cell_type": "markdown",
   "metadata": {},
   "source": [
    "## Sales - who creates the orders for the customers"
   ]
  },
  {
   "cell_type": "code",
   "execution_count": 17,
   "metadata": {},
   "outputs": [
    {
     "data": {
      "text/plain": [
       "[('GRANT USAGE ON *.* TO `employees`@`%`',)]"
      ]
     },
     "execution_count": 17,
     "metadata": {},
     "output_type": "execute_result"
    }
   ],
   "source": [
    "sqlDo(\"DROP USER IF EXISTS sales\") # if user exists then drop\n",
    "sqlDo(\"CREATE USER 'sales' IDENTIFIED BY '0020'\") # cerate new user name bookeeping\n",
    "sqlQuery(\"select User, Host from mysql.user\") # show all user\n",
    "sqlQuery(\"SHOW GRANTS FOR employees\") # show privilege of user bookkeeping"
   ]
  },
  {
   "cell_type": "code",
   "execution_count": 18,
   "metadata": {},
   "outputs": [],
   "source": [
    "sqlDo(\"GRANT INSERT ON classicmodels.orders TO sales\")\n",
    "sqlDo(\"FLUSH Privileges\")"
   ]
  },
  {
   "cell_type": "code",
   "execution_count": 19,
   "metadata": {},
   "outputs": [],
   "source": [
    "hrmconn = myconnect('sales','0020')"
   ]
  },
  {
   "cell_type": "code",
   "execution_count": 31,
   "metadata": {},
   "outputs": [
    {
     "name": "stderr",
     "output_type": "stream",
     "text": [
      "1364 (HY000): Field 'orderNumber' doesn't have a default value\n"
     ]
    }
   ],
   "source": [
    "sqlDo(\"\"\"\n",
    "INSERT INTO classicmodels.orders\n",
    "(orderDate,requiredDate,shippedDate,status,comments,customerNumber)\n",
    "VALUES('2019-02-24','2019-02-26','2019-02-28','good','yes',100)\n",
    "\"\"\",hrmconn)\n"
   ]
  },
  {
   "cell_type": "markdown",
   "metadata": {},
   "source": [
    "## Exercise 3 - backup and recovery"
   ]
  },
  {
   "cell_type": "code",
   "execution_count": null,
   "metadata": {},
   "outputs": [],
   "source": [
    "C:\\Program Files\\MySQL\\MySQL Server 8.0\\bin>mysqldump -u root -p test>back.sql # create back up database command"
   ]
  },
  {
   "cell_type": "code",
   "execution_count": null,
   "metadata": {},
   "outputs": [],
   "source": [
    "C:\\Program Files\\MySQL\\MySQL Server 8.0\\bin>mysqldump -u root -p test<back.sql  # restore database from backup"
   ]
  }
 ],
 "metadata": {
  "kernelspec": {
   "display_name": "Python 3",
   "language": "python",
   "name": "python3"
  },
  "language_info": {
   "codemirror_mode": {
    "name": "ipython",
    "version": 3
   },
   "file_extension": ".py",
   "mimetype": "text/x-python",
   "name": "python",
   "nbconvert_exporter": "python",
   "pygments_lexer": "ipython3",
   "version": "3.7.1"
  }
 },
 "nbformat": 4,
 "nbformat_minor": 2
}
